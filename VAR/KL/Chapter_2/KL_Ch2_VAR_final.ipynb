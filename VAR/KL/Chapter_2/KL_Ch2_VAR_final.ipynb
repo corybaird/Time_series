{
 "cells": [
  {
   "cell_type": "code",
   "execution_count": 2,
   "id": "subsequent-costume",
   "metadata": {},
   "outputs": [],
   "source": [
    "import os \n",
    "import functools\n",
    "import numpy as np\n",
    "import pandas as pd"
   ]
  },
  {
   "cell_type": "markdown",
   "id": "greater-collect",
   "metadata": {},
   "source": [
    "# Chapter 2. Vector Autoregressive models\n",
    "## Least square model example built by hand using numpy\n",
    "## Original matlab code translated from:\n",
    "   - Kilian, L., & Lütkepohl, H. (2017). Structural vector autoregressive analysis. Cambridge University Press.\n",
    "        - pg. 33\n",
    "\n",
    "\n",
    "- Original matlab files [here](https://sites.google.com/site/lkilian2019/textbook/code)\n",
    "    - Chapter 2: ls estimate\n",
    "        - [Download link](https://drive.google.com/file/d/1-aR_PNS_fesCnGjU99o6ifSxE3B0mX-X/view?usp=sharing)\n",
    "        - Based on ls.m file"
   ]
  },
  {
   "cell_type": "markdown",
   "id": "alpine-webster",
   "metadata": {},
   "source": [
    "## 1. Import data"
   ]
  },
  {
   "cell_type": "markdown",
   "id": "geological-encoding",
   "metadata": {},
   "source": [
    "## 1.A Files"
   ]
  },
  {
   "cell_type": "code",
   "execution_count": 3,
   "id": "downtown-shaft",
   "metadata": {},
   "outputs": [
    {
     "data": {
      "text/plain": [
       "['realgnp.txt', 'gnpdeflator.txt']"
      ]
     },
     "execution_count": 3,
     "metadata": {},
     "output_type": "execute_result"
    }
   ],
   "source": [
    "path = 'Data/'\n",
    "files = [x for x in os.listdir(path) if x.endswith('.txt')]\n",
    "files.remove('fedfunds.txt')\n",
    "files"
   ]
  },
  {
   "cell_type": "markdown",
   "id": "blank-settle",
   "metadata": {},
   "source": [
    "## 1.B Import"
   ]
  },
  {
   "cell_type": "markdown",
   "id": "gothic-initial",
   "metadata": {},
   "source": [
    "### 1.B.1 Quarterly data"
   ]
  },
  {
   "cell_type": "code",
   "execution_count": 4,
   "id": "certified-district",
   "metadata": {},
   "outputs": [
    {
     "data": {
      "text/html": [
       "<div>\n",
       "<style scoped>\n",
       "    .dataframe tbody tr th:only-of-type {\n",
       "        vertical-align: middle;\n",
       "    }\n",
       "\n",
       "    .dataframe tbody tr th {\n",
       "        vertical-align: top;\n",
       "    }\n",
       "\n",
       "    .dataframe thead th {\n",
       "        text-align: right;\n",
       "    }\n",
       "</style>\n",
       "<table border=\"1\" class=\"dataframe\">\n",
       "  <thead>\n",
       "    <tr style=\"text-align: right;\">\n",
       "      <th></th>\n",
       "      <th>Year</th>\n",
       "      <th>qtr</th>\n",
       "      <th>realgnp</th>\n",
       "      <th>gnpdeflator</th>\n",
       "      <th>date</th>\n",
       "    </tr>\n",
       "    <tr>\n",
       "      <th>date_qtr</th>\n",
       "      <th></th>\n",
       "      <th></th>\n",
       "      <th></th>\n",
       "      <th></th>\n",
       "      <th></th>\n",
       "    </tr>\n",
       "  </thead>\n",
       "  <tbody>\n",
       "    <tr>\n",
       "      <th>1954Q3</th>\n",
       "      <td>1954</td>\n",
       "      <td>3</td>\n",
       "      <td>2576.3</td>\n",
       "      <td>15.279</td>\n",
       "      <td>1954-07-01</td>\n",
       "    </tr>\n",
       "    <tr>\n",
       "      <th>1954Q4</th>\n",
       "      <td>1954</td>\n",
       "      <td>4</td>\n",
       "      <td>2628.2</td>\n",
       "      <td>15.322</td>\n",
       "      <td>1954-10-01</td>\n",
       "    </tr>\n",
       "  </tbody>\n",
       "</table>\n",
       "</div>"
      ],
      "text/plain": [
       "          Year  qtr  realgnp  gnpdeflator       date\n",
       "date_qtr                                            \n",
       "1954Q3    1954    3   2576.3       15.279 1954-07-01\n",
       "1954Q4    1954    4   2628.2       15.322 1954-10-01"
      ]
     },
     "execution_count": 4,
     "metadata": {},
     "output_type": "execute_result"
    }
   ],
   "source": [
    "df = []\n",
    "for file in files:\n",
    "    data = pd.read_csv(path + file, delimiter='\\t', header = None)\n",
    "    data_col_name = file.split('.')[0] # Create data column name\n",
    "    data.columns = ['Year','qtr', data_col_name] # Rename cols\n",
    "    df.append(data)\n",
    "#Concat\n",
    "df = functools.reduce(lambda left,right: pd.merge(left,right,on=['Year','qtr'], how='outer'),df)\n",
    "df['date'] = pd.to_datetime(df['Year'].astype(str).add('Q').add(df['qtr'].astype(str)))\n",
    "df['date_qtr'] = df['date'].dt.to_period('Q')\n",
    "df.set_index('date_qtr', inplace=True) # set index\n",
    "df.head(2)"
   ]
  },
  {
   "cell_type": "markdown",
   "id": "executive-slave",
   "metadata": {},
   "source": [
    "#### 1.B.1.1 Create infl and drgp vars\n",
    "\n",
    "```Matlab\n",
    "%Matlab code\n",
    "infl=dif(log(gnpdeflator(:,3)))*100;\n",
    "drgdp=dif(log(realgnp(:,3)))*100;\n",
    "```"
   ]
  },
  {
   "cell_type": "code",
   "execution_count": 5,
   "id": "prime-experience",
   "metadata": {},
   "outputs": [
    {
     "data": {
      "text/html": [
       "<div>\n",
       "<style scoped>\n",
       "    .dataframe tbody tr th:only-of-type {\n",
       "        vertical-align: middle;\n",
       "    }\n",
       "\n",
       "    .dataframe tbody tr th {\n",
       "        vertical-align: top;\n",
       "    }\n",
       "\n",
       "    .dataframe thead th {\n",
       "        text-align: right;\n",
       "    }\n",
       "</style>\n",
       "<table border=\"1\" class=\"dataframe\">\n",
       "  <thead>\n",
       "    <tr style=\"text-align: right;\">\n",
       "      <th></th>\n",
       "      <th>Year</th>\n",
       "      <th>qtr</th>\n",
       "      <th>realgnp</th>\n",
       "      <th>gnpdeflator</th>\n",
       "      <th>date</th>\n",
       "      <th>infl</th>\n",
       "      <th>drgdp</th>\n",
       "    </tr>\n",
       "    <tr>\n",
       "      <th>date_qtr</th>\n",
       "      <th></th>\n",
       "      <th></th>\n",
       "      <th></th>\n",
       "      <th></th>\n",
       "      <th></th>\n",
       "      <th></th>\n",
       "      <th></th>\n",
       "    </tr>\n",
       "  </thead>\n",
       "  <tbody>\n",
       "    <tr>\n",
       "      <th>1954Q3</th>\n",
       "      <td>1954</td>\n",
       "      <td>3</td>\n",
       "      <td>2576.3</td>\n",
       "      <td>15.279</td>\n",
       "      <td>1954-07-01</td>\n",
       "      <td>NaN</td>\n",
       "      <td>NaN</td>\n",
       "    </tr>\n",
       "    <tr>\n",
       "      <th>1954Q4</th>\n",
       "      <td>1954</td>\n",
       "      <td>4</td>\n",
       "      <td>2628.2</td>\n",
       "      <td>15.322</td>\n",
       "      <td>1954-10-01</td>\n",
       "      <td>0.281037</td>\n",
       "      <td>1.994494</td>\n",
       "    </tr>\n",
       "    <tr>\n",
       "      <th>1955Q1</th>\n",
       "      <td>1955</td>\n",
       "      <td>1</td>\n",
       "      <td>2703.1</td>\n",
       "      <td>15.396</td>\n",
       "      <td>1955-01-01</td>\n",
       "      <td>0.481803</td>\n",
       "      <td>2.810006</td>\n",
       "    </tr>\n",
       "  </tbody>\n",
       "</table>\n",
       "</div>"
      ],
      "text/plain": [
       "          Year  qtr  realgnp  gnpdeflator       date      infl     drgdp\n",
       "date_qtr                                                                \n",
       "1954Q3    1954    3   2576.3       15.279 1954-07-01       NaN       NaN\n",
       "1954Q4    1954    4   2628.2       15.322 1954-10-01  0.281037  1.994494\n",
       "1955Q1    1955    1   2703.1       15.396 1955-01-01  0.481803  2.810006"
      ]
     },
     "execution_count": 5,
     "metadata": {},
     "output_type": "execute_result"
    }
   ],
   "source": [
    "df['infl'] = df['gnpdeflator'].apply(np.log).diff(1).multiply(100)\n",
    "df['drgdp'] = df['realgnp'].apply(np.log).diff(1).multiply(100)\n",
    "df.head(3)"
   ]
  },
  {
   "cell_type": "markdown",
   "id": "hearing-circuit",
   "metadata": {},
   "source": [
    "### 1.B.2 Monthly"
   ]
  },
  {
   "cell_type": "code",
   "execution_count": 6,
   "id": "automotive-wrong",
   "metadata": {},
   "outputs": [
    {
     "data": {
      "text/html": [
       "<div>\n",
       "<style scoped>\n",
       "    .dataframe tbody tr th:only-of-type {\n",
       "        vertical-align: middle;\n",
       "    }\n",
       "\n",
       "    .dataframe tbody tr th {\n",
       "        vertical-align: top;\n",
       "    }\n",
       "\n",
       "    .dataframe thead th {\n",
       "        text-align: right;\n",
       "    }\n",
       "</style>\n",
       "<table border=\"1\" class=\"dataframe\">\n",
       "  <thead>\n",
       "    <tr style=\"text-align: right;\">\n",
       "      <th></th>\n",
       "      <th>Year</th>\n",
       "      <th>month</th>\n",
       "      <th>fedfunds</th>\n",
       "    </tr>\n",
       "    <tr>\n",
       "      <th>date</th>\n",
       "      <th></th>\n",
       "      <th></th>\n",
       "      <th></th>\n",
       "    </tr>\n",
       "  </thead>\n",
       "  <tbody>\n",
       "    <tr>\n",
       "      <th>1954-10-01</th>\n",
       "      <td>1954</td>\n",
       "      <td>10</td>\n",
       "      <td>0.85</td>\n",
       "    </tr>\n",
       "    <tr>\n",
       "      <th>1954-11-01</th>\n",
       "      <td>1954</td>\n",
       "      <td>11</td>\n",
       "      <td>0.83</td>\n",
       "    </tr>\n",
       "  </tbody>\n",
       "</table>\n",
       "</div>"
      ],
      "text/plain": [
       "            Year  month  fedfunds\n",
       "date                             \n",
       "1954-10-01  1954     10      0.85\n",
       "1954-11-01  1954     11      0.83"
      ]
     },
     "execution_count": 6,
     "metadata": {},
     "output_type": "execute_result"
    }
   ],
   "source": [
    "df_ff = pd.read_csv(path + 'fedfunds.txt', delimiter='\\t', header = None)\n",
    "df_ff.columns = ['Year', 'month', 'fedfunds']\n",
    "df_ff['date'] = pd.to_datetime(df_ff['Year'].astype(str).add('-').add(df_ff['month'].astype(str)))\n",
    "df_ff.set_index('date',inplace=True)\n",
    "df_ff.head(2)"
   ]
  },
  {
   "cell_type": "markdown",
   "id": "conceptual-wallet",
   "metadata": {},
   "source": [
    "#### 1.B.2.1 Convert to irate\n",
    "\n",
    "```Matlab\n",
    "%Matlab code\n",
    "irate=[];\n",
    "for i=1:3:length(fedfunds(:,3))\n",
    "  irate=[irate; mean(fedfunds(i:i+2,3))];\n",
    "end;    \n",
    "```"
   ]
  },
  {
   "cell_type": "code",
   "execution_count": 7,
   "id": "cubic-submission",
   "metadata": {},
   "outputs": [
    {
     "data": {
      "text/html": [
       "<div>\n",
       "<style scoped>\n",
       "    .dataframe tbody tr th:only-of-type {\n",
       "        vertical-align: middle;\n",
       "    }\n",
       "\n",
       "    .dataframe tbody tr th {\n",
       "        vertical-align: top;\n",
       "    }\n",
       "\n",
       "    .dataframe thead th {\n",
       "        text-align: right;\n",
       "    }\n",
       "</style>\n",
       "<table border=\"1\" class=\"dataframe\">\n",
       "  <thead>\n",
       "    <tr style=\"text-align: right;\">\n",
       "      <th></th>\n",
       "      <th>fedfunds</th>\n",
       "    </tr>\n",
       "    <tr>\n",
       "      <th>date</th>\n",
       "      <th></th>\n",
       "    </tr>\n",
       "  </thead>\n",
       "  <tbody>\n",
       "    <tr>\n",
       "      <th>1954Q4</th>\n",
       "      <td>0.986667</td>\n",
       "    </tr>\n",
       "    <tr>\n",
       "      <th>1955Q1</th>\n",
       "      <td>1.343333</td>\n",
       "    </tr>\n",
       "    <tr>\n",
       "      <th>1955Q2</th>\n",
       "      <td>1.500000</td>\n",
       "    </tr>\n",
       "  </tbody>\n",
       "</table>\n",
       "</div>"
      ],
      "text/plain": [
       "        fedfunds\n",
       "date            \n",
       "1954Q4  0.986667\n",
       "1955Q1  1.343333\n",
       "1955Q2  1.500000"
      ]
     },
     "execution_count": 7,
     "metadata": {},
     "output_type": "execute_result"
    }
   ],
   "source": [
    "df_ff_qtr = df_ff.fedfunds.resample('Q').mean()\n",
    "df_ff_qtr.index = pd.PeriodIndex(df_ff_qtr.index)\n",
    "df_ff_qtr = pd.DataFrame(df_ff_qtr)\n",
    "df_ff_qtr.head(3)"
   ]
  },
  {
   "cell_type": "markdown",
   "id": "wired-adapter",
   "metadata": {},
   "source": [
    "### 1.B.3 Merge"
   ]
  },
  {
   "cell_type": "code",
   "execution_count": 8,
   "id": "neural-posting",
   "metadata": {},
   "outputs": [
    {
     "data": {
      "text/html": [
       "<div>\n",
       "<style scoped>\n",
       "    .dataframe tbody tr th:only-of-type {\n",
       "        vertical-align: middle;\n",
       "    }\n",
       "\n",
       "    .dataframe tbody tr th {\n",
       "        vertical-align: top;\n",
       "    }\n",
       "\n",
       "    .dataframe thead th {\n",
       "        text-align: right;\n",
       "    }\n",
       "</style>\n",
       "<table border=\"1\" class=\"dataframe\">\n",
       "  <thead>\n",
       "    <tr style=\"text-align: right;\">\n",
       "      <th></th>\n",
       "      <th>drgdp</th>\n",
       "      <th>fedfunds</th>\n",
       "      <th>infl</th>\n",
       "    </tr>\n",
       "  </thead>\n",
       "  <tbody>\n",
       "    <tr>\n",
       "      <th>1954Q4</th>\n",
       "      <td>1.994494</td>\n",
       "      <td>0.986667</td>\n",
       "      <td>0.281037</td>\n",
       "    </tr>\n",
       "    <tr>\n",
       "      <th>1955Q1</th>\n",
       "      <td>2.810006</td>\n",
       "      <td>1.343333</td>\n",
       "      <td>0.481803</td>\n",
       "    </tr>\n",
       "    <tr>\n",
       "      <th>1955Q2</th>\n",
       "      <td>1.592811</td>\n",
       "      <td>1.500000</td>\n",
       "      <td>0.414831</td>\n",
       "    </tr>\n",
       "    <tr>\n",
       "      <th>1955Q3</th>\n",
       "      <td>1.334583</td>\n",
       "      <td>1.940000</td>\n",
       "      <td>0.708994</td>\n",
       "    </tr>\n",
       "    <tr>\n",
       "      <th>1955Q4</th>\n",
       "      <td>0.608906</td>\n",
       "      <td>2.356667</td>\n",
       "      <td>0.977862</td>\n",
       "    </tr>\n",
       "  </tbody>\n",
       "</table>\n",
       "</div>"
      ],
      "text/plain": [
       "           drgdp  fedfunds      infl\n",
       "1954Q4  1.994494  0.986667  0.281037\n",
       "1955Q1  2.810006  1.343333  0.481803\n",
       "1955Q2  1.592811  1.500000  0.414831\n",
       "1955Q3  1.334583  1.940000  0.708994\n",
       "1955Q4  0.608906  2.356667  0.977862"
      ]
     },
     "execution_count": 8,
     "metadata": {},
     "output_type": "execute_result"
    }
   ],
   "source": [
    "df = pd.concat([df.drop(['Year','qtr','date', 'realgnp','gnpdeflator'],axis=1), #drop cols\n",
    "                df_ff_qtr\n",
    "               ],\n",
    "          axis=1).dropna()\n",
    "df = df[['drgdp','fedfunds','infl']]\n",
    "df.head(5)"
   ]
  },
  {
   "cell_type": "markdown",
   "id": "searching-plumbing",
   "metadata": {},
   "source": [
    "## 1.1 VAR lag 4"
   ]
  },
  {
   "cell_type": "markdown",
   "id": "lightweight-partner",
   "metadata": {},
   "source": [
    "### 1.1.A Create VAR function\n",
    "\n",
    "Original matlab code: https://www3.nd.edu/~esims1/olsvarc.m\n",
    "```Matlab\n",
    "function [A,SIGMA,U,V] = olsvarc(y,p);\n",
    "[t,q] = size(y); %t denotes the number of observation on each variable, where there are q total variables\n",
    "y=y';\n",
    "Y = y(:,p:t);\n",
    "for i =1:p-1\n",
    "    Y = [Y; y(:,p-i:t-i)]; % This forms the companion matrix\n",
    "end;\n",
    "\n",
    "X = [ones(1,t-p); Y(:,1:t-p)];\n",
    "Y=Y(:,2:t-p+1);\n",
    "A = (Y*X')/(X*X');\n",
    "U = Y-A*X; %The first two rows of U will be the reduced form residuals\n",
    "%SIGMA = U*U'/(t-p-p*q-1);\n",
    "SIGMA = U*U'/(t-p-1);% The upper left hand block gives the variance-covariance matrix\n",
    "V=A(:,1); %This gives the intercept terms\n",
    "A=A(:,2:q*p+1);  % This gives the slope coefficients\n",
    "```\n"
   ]
  },
  {
   "cell_type": "code",
   "execution_count": 9,
   "id": "generic-logging",
   "metadata": {},
   "outputs": [],
   "source": [
    "def olsvar(y,p):\n",
    "    t,q = np.shape(y) #t: num obs each variable, q: total variables\n",
    "    y = y.transpose()\n",
    "    Y = y[:, p-1:t+1] # note code is slightly different due to python indexing from 0\n",
    "    # Create compaion matrix\n",
    "    for i in range(1, p):\n",
    "        row_start = p-i-1\n",
    "        row_end = t-i-1\n",
    "        #print(row_start, row_end)\n",
    "        Y = np.concatenate((Y, y[:, row_start: row_end+1]), axis=0)\n",
    "    x = np.ones((1, t-p))\n",
    "    x = np.concatenate((x,Y[:, 0:t-p]), axis=0)\n",
    "    Y =  Y[:, 1:t-p+1+1]\n",
    "    A_lhs = Y @ x.transpose() #@ is dot product\n",
    "    A_rhs = x @ x.transpose()\n",
    "    A = np.dot(A_lhs, np.linalg.pinv(A_rhs)) #A = (Y*X')/(X*X')\n",
    "    # LS Residuals\n",
    "    U = Y - A @ x\n",
    "    sigma = U @ U.transpose() / (t-p-1)\n",
    "    V = A[:, 0] # intercept terms\n",
    "    A = A[:, 1:q*p+1] # % This gives the slope coefficients NOTE: slightly diff orig code A=A(:,2:q*p+1);  \n",
    "    return A, sigma, U, V"
   ]
  },
  {
   "cell_type": "markdown",
   "id": "behavioral-authentication",
   "metadata": {},
   "source": [
    "### 1.1.B Run VAR: by hand function"
   ]
  },
  {
   "cell_type": "code",
   "execution_count": 10,
   "id": "dangerous-float",
   "metadata": {},
   "outputs": [],
   "source": [
    "y = df.to_numpy()\n",
    "t,q = np.shape(y) #row, column\n",
    "p = 4 # 4 lags\n",
    "A, sigma, U, V = olsvar(y,p)"
   ]
  },
  {
   "cell_type": "markdown",
   "id": "dynamic-confidentiality",
   "metadata": {},
   "source": [
    "### 1.1.C Run Var: by statsmodels"
   ]
  },
  {
   "cell_type": "code",
   "execution_count": 11,
   "id": "hydraulic-seafood",
   "metadata": {},
   "outputs": [],
   "source": [
    "from statsmodels.tsa.api import VAR\n",
    "var = VAR(y).fit(maxlags=4)"
   ]
  },
  {
   "cell_type": "markdown",
   "id": "unknown-examination",
   "metadata": {},
   "source": [
    "### 1.1.1 Intercept terms"
   ]
  },
  {
   "cell_type": "markdown",
   "id": "frozen-preservation",
   "metadata": {},
   "source": [
    "#### 1.1.1.1 By hand"
   ]
  },
  {
   "cell_type": "code",
   "execution_count": 12,
   "id": "conditional-blair",
   "metadata": {},
   "outputs": [
    {
     "data": {
      "text/plain": [
       "array([[ 0.72399638],\n",
       "       [-0.39248435],\n",
       "       [ 0.0067436 ]])"
      ]
     },
     "execution_count": 12,
     "metadata": {},
     "output_type": "execute_result"
    }
   ],
   "source": [
    "vhat = V[0:q].reshape(-1,1)\n",
    "vhat"
   ]
  },
  {
   "cell_type": "markdown",
   "id": "duplicate-yesterday",
   "metadata": {},
   "source": [
    "#### 1.1.1.2 Statsmodels"
   ]
  },
  {
   "cell_type": "code",
   "execution_count": 13,
   "id": "rural-health",
   "metadata": {},
   "outputs": [
    {
     "data": {
      "text/plain": [
       "array([ 0.72399638, -0.39248435,  0.0067436 ])"
      ]
     },
     "execution_count": 13,
     "metadata": {},
     "output_type": "execute_result"
    }
   ],
   "source": [
    "var.intercept"
   ]
  },
  {
   "cell_type": "markdown",
   "id": "insured-lawyer",
   "metadata": {},
   "source": [
    "### 1.1.2 Innovation co-variance matrix"
   ]
  },
  {
   "cell_type": "markdown",
   "id": "strategic-lebanon",
   "metadata": {},
   "source": [
    "#### 1.1.3.1 By hand"
   ]
  },
  {
   "cell_type": "code",
   "execution_count": 14,
   "id": "stock-vault",
   "metadata": {},
   "outputs": [
    {
     "data": {
      "text/plain": [
       "array([[ 0.56831732,  0.0749503 , -0.02018028],\n",
       "       [ 0.0749503 ,  0.61861933,  0.03529739],\n",
       "       [-0.02018028,  0.03529739,  0.06446127]])"
      ]
     },
     "execution_count": 14,
     "metadata": {},
     "output_type": "execute_result"
    }
   ],
   "source": [
    "sighat = sigma[0:q, 0:q]\n",
    "sighat"
   ]
  },
  {
   "cell_type": "markdown",
   "id": "sized-theology",
   "metadata": {},
   "source": [
    "#### 1.1.3.2 Statsmodels"
   ]
  },
  {
   "cell_type": "code",
   "execution_count": 15,
   "id": "driving-religious",
   "metadata": {},
   "outputs": [
    {
     "data": {
      "text/plain": [
       "array([[ 0.60311226,  0.07953909, -0.02141581],\n",
       "       [ 0.07953909,  0.65649398,  0.03745846],\n",
       "       [-0.02141581,  0.03745846,  0.06840787]])"
      ]
     },
     "execution_count": 15,
     "metadata": {},
     "output_type": "execute_result"
    }
   ],
   "source": [
    "var.sigma_u"
   ]
  },
  {
   "cell_type": "markdown",
   "id": "bacterial-saturn",
   "metadata": {},
   "source": [
    "## 1.2 Coefficients"
   ]
  },
  {
   "cell_type": "markdown",
   "id": "annoying-round",
   "metadata": {},
   "source": [
    "### 1.2.1 ahat matrices contain lag estimate for each equation"
   ]
  },
  {
   "cell_type": "code",
   "execution_count": 16,
   "id": "searching-configuration",
   "metadata": {},
   "outputs": [],
   "source": [
    "# ahat matrices have information for multiple equations\n",
    "# lag 1 estimates\n",
    "ahat_1 = A[0:q, 0:q] #A(1:K,1:K)\n",
    "# lag 2 estimates\n",
    "ahat_2 = A[0:q, q:2*q] #A(1:K,K+1:2*K)\n",
    "# lag 3 estimates\n",
    "ahat_3 = A[0:q, 2*q:3*q] #A(1:K,2*K+1:3*K)\n",
    "# lag 4 estimates\n",
    "ahat_4 = A[0:q, 3*q:4*q] #A(1:K,3*K+1:4*K)"
   ]
  },
  {
   "cell_type": "code",
   "execution_count": 17,
   "id": "moderate-branch",
   "metadata": {},
   "outputs": [
    {
     "name": "stdout",
     "output_type": "stream",
     "text": [
      "Equation y1\n",
      "Lag 1\n",
      "[0.22302261 0.00969635 0.39687534]\n",
      "\n",
      "Equation y2\n",
      "Lag 1\n",
      "[0.31473555 1.09693344 0.59786854]\n",
      "\n",
      "Equation y3\n",
      "Lag 1\n",
      "[0.00122765 0.06355433 0.40961696]\n",
      "\n"
     ]
    }
   ],
   "source": [
    "for row_num in range(0,3):\n",
    "    print(f'Equation y{str(row_num+1)}')\n",
    "    print('Lag 1')\n",
    "    print(ahat_1[row_num])\n",
    "    print()"
   ]
  },
  {
   "cell_type": "markdown",
   "id": "dying-sharing",
   "metadata": {},
   "source": [
    "#### 1.1.2.1 Check with statsmodels coefficients\n",
    "- a matrices are in the coefs matrix in var output"
   ]
  },
  {
   "cell_type": "code",
   "execution_count": 18,
   "id": "tender-gnome",
   "metadata": {},
   "outputs": [
    {
     "data": {
      "text/plain": [
       "True"
      ]
     },
     "execution_count": 18,
     "metadata": {},
     "output_type": "execute_result"
    }
   ],
   "source": [
    "np.allclose(ahat_1, var.coefs[0])\n",
    "np.allclose(ahat_2, var.coefs[1])\n",
    "np.allclose(ahat_3, var.coefs[2])\n",
    "np.allclose(ahat_4, var.coefs[3])"
   ]
  },
  {
   "cell_type": "markdown",
   "id": "growing-league",
   "metadata": {},
   "source": [
    "## 1.3 Compare with summary"
   ]
  },
  {
   "cell_type": "markdown",
   "id": "least-richardson",
   "metadata": {},
   "source": [
    "### 1.3.1 Statsmodels"
   ]
  },
  {
   "cell_type": "code",
   "execution_count": 19,
   "id": "minus-apache",
   "metadata": {},
   "outputs": [
    {
     "data": {
      "text/plain": [
       "  Summary of Regression Results   \n",
       "==================================\n",
       "Model:                         VAR\n",
       "Method:                        OLS\n",
       "Date:           Thu, 07, Apr, 2022\n",
       "Time:                     16:27:07\n",
       "--------------------------------------------------------------------\n",
       "No. of Equations:         3.00000    BIC:                   -2.86965\n",
       "Nobs:                     209.000    HQIC:                  -3.24118\n",
       "Log likelihood:          -485.620    FPE:                  0.0304139\n",
       "AIC:                     -3.49334    Det(Omega_mle):       0.0253777\n",
       "--------------------------------------------------------------------\n",
       "Results for equation y1\n",
       "========================================================================\n",
       "           coefficient       std. error           t-stat            prob\n",
       "------------------------------------------------------------------------\n",
       "const         0.723996         0.181997            3.978           0.000\n",
       "L1.y1         0.223023         0.072524            3.075           0.002\n",
       "L1.y2         0.009696         0.068274            0.142           0.887\n",
       "L1.y3         0.396875         0.207017            1.917           0.055\n",
       "L2.y1         0.214252         0.072626            2.950           0.003\n",
       "L2.y2        -0.386158         0.098004           -3.940           0.000\n",
       "L2.y3         0.136048         0.229070            0.594           0.553\n",
       "L3.y1        -0.005326         0.073194           -0.073           0.942\n",
       "L3.y2         0.340733         0.102393            3.328           0.001\n",
       "L3.y3        -0.535430         0.227544           -2.353           0.019\n",
       "L4.y1        -0.041102         0.068171           -0.603           0.547\n",
       "L4.y2         0.001349         0.072039            0.019           0.985\n",
       "L4.y3        -0.026822         0.217990           -0.123           0.902\n",
       "========================================================================\n",
       "\n",
       "Results for equation y2\n",
       "========================================================================\n",
       "           coefficient       std. error           t-stat            prob\n",
       "------------------------------------------------------------------------\n",
       "const        -0.392484         0.189881           -2.067           0.039\n",
       "L1.y1         0.314736         0.075665            4.160           0.000\n",
       "L1.y2         1.096933         0.071232           15.399           0.000\n",
       "L1.y3         0.597869         0.215984            2.768           0.006\n",
       "L2.y1         0.186689         0.075772            2.464           0.014\n",
       "L2.y2        -0.486032         0.102249           -4.753           0.000\n",
       "L2.y3         0.503690         0.238993            2.108           0.035\n",
       "L3.y1         0.027529         0.076364            0.361           0.718\n",
       "L3.y2         0.483196         0.106829            4.523           0.000\n",
       "L3.y3        -0.321177         0.237400           -1.353           0.176\n",
       "L4.y1        -0.022559         0.071124           -0.317           0.751\n",
       "L4.y2        -0.164217         0.075159           -2.185           0.029\n",
       "L4.y3        -0.331993         0.227433           -1.460           0.144\n",
       "========================================================================\n",
       "\n",
       "Results for equation y3\n",
       "========================================================================\n",
       "           coefficient       std. error           t-stat            prob\n",
       "------------------------------------------------------------------------\n",
       "const         0.006744         0.061294            0.110           0.912\n",
       "L1.y1         0.001228         0.024425            0.050           0.960\n",
       "L1.y2         0.063554         0.022994            2.764           0.006\n",
       "L1.y3         0.409617         0.069720            5.875           0.000\n",
       "L2.y1        -0.017425         0.024459           -0.712           0.476\n",
       "L2.y2        -0.050985         0.033006           -1.545           0.122\n",
       "L2.y3         0.234997         0.077148            3.046           0.002\n",
       "L3.y1         0.011484         0.024651            0.466           0.641\n",
       "L3.y2        -0.005236         0.034485           -0.152           0.879\n",
       "L3.y3         0.081537         0.076634            1.064           0.287\n",
       "L4.y1         0.066688         0.022959            2.905           0.004\n",
       "L4.y2        -0.013676         0.024262           -0.564           0.573\n",
       "L4.y3         0.246318         0.073416            3.355           0.001\n",
       "========================================================================\n",
       "\n",
       "Correlation matrix of residuals\n",
       "            y1        y2        y3\n",
       "y1    1.000000  0.126406 -0.105434\n",
       "y2    0.126406  1.000000  0.176759\n",
       "y3   -0.105434  0.176759  1.000000\n",
       "\n"
      ]
     },
     "execution_count": 19,
     "metadata": {},
     "output_type": "execute_result"
    }
   ],
   "source": [
    "var.summary()"
   ]
  },
  {
   "cell_type": "markdown",
   "id": "incorporated-blood",
   "metadata": {},
   "source": [
    "### 1.3.2 By hand\n",
    "### Note: y1 data first row of a matrix\n",
    "\n",
    "#### 1.3.2.1 Results for equation y1"
   ]
  },
  {
   "cell_type": "code",
   "execution_count": 20,
   "id": "sudden-shoot",
   "metadata": {},
   "outputs": [
    {
     "data": {
      "text/html": [
       "<div>\n",
       "<style scoped>\n",
       "    .dataframe tbody tr th:only-of-type {\n",
       "        vertical-align: middle;\n",
       "    }\n",
       "\n",
       "    .dataframe tbody tr th {\n",
       "        vertical-align: top;\n",
       "    }\n",
       "\n",
       "    .dataframe thead th {\n",
       "        text-align: right;\n",
       "    }\n",
       "</style>\n",
       "<table border=\"1\" class=\"dataframe\">\n",
       "  <thead>\n",
       "    <tr style=\"text-align: right;\">\n",
       "      <th></th>\n",
       "      <th>0</th>\n",
       "    </tr>\n",
       "  </thead>\n",
       "  <tbody>\n",
       "    <tr>\n",
       "      <th>L1.y1</th>\n",
       "      <td>0.223023</td>\n",
       "    </tr>\n",
       "    <tr>\n",
       "      <th>L1.y2</th>\n",
       "      <td>0.009696</td>\n",
       "    </tr>\n",
       "    <tr>\n",
       "      <th>L1.y3</th>\n",
       "      <td>0.396875</td>\n",
       "    </tr>\n",
       "    <tr>\n",
       "      <th>L2.y1</th>\n",
       "      <td>0.214252</td>\n",
       "    </tr>\n",
       "    <tr>\n",
       "      <th>L2.y2</th>\n",
       "      <td>-0.386158</td>\n",
       "    </tr>\n",
       "    <tr>\n",
       "      <th>L2.y3</th>\n",
       "      <td>0.136048</td>\n",
       "    </tr>\n",
       "    <tr>\n",
       "      <th>L3.y1</th>\n",
       "      <td>-0.005326</td>\n",
       "    </tr>\n",
       "    <tr>\n",
       "      <th>L3.y2</th>\n",
       "      <td>0.340733</td>\n",
       "    </tr>\n",
       "    <tr>\n",
       "      <th>L3.y3</th>\n",
       "      <td>-0.535430</td>\n",
       "    </tr>\n",
       "    <tr>\n",
       "      <th>L4.y1</th>\n",
       "      <td>-0.041102</td>\n",
       "    </tr>\n",
       "    <tr>\n",
       "      <th>L4.y2</th>\n",
       "      <td>0.001349</td>\n",
       "    </tr>\n",
       "    <tr>\n",
       "      <th>L4.y3</th>\n",
       "      <td>-0.026822</td>\n",
       "    </tr>\n",
       "  </tbody>\n",
       "</table>\n",
       "</div>"
      ],
      "text/plain": [
       "              0\n",
       "L1.y1  0.223023\n",
       "L1.y2  0.009696\n",
       "L1.y3  0.396875\n",
       "L2.y1  0.214252\n",
       "L2.y2 -0.386158\n",
       "L2.y3  0.136048\n",
       "L3.y1 -0.005326\n",
       "L3.y2  0.340733\n",
       "L3.y3 -0.535430\n",
       "L4.y1 -0.041102\n",
       "L4.y2  0.001349\n",
       "L4.y3 -0.026822"
      ]
     },
     "execution_count": 20,
     "metadata": {},
     "output_type": "execute_result"
    }
   ],
   "source": [
    "y1_data = pd.DataFrame(A).iloc[0,:].values\n",
    "y1 = pd.DataFrame(data = y1_data, index =  var.exog_names[1:])\n",
    "y1"
   ]
  },
  {
   "cell_type": "markdown",
   "id": "weighted-maximum",
   "metadata": {},
   "source": [
    "#### 1.3.2.2 Results for all"
   ]
  },
  {
   "cell_type": "code",
   "execution_count": 21,
   "id": "acceptable-updating",
   "metadata": {},
   "outputs": [
    {
     "data": {
      "text/html": [
       "<div>\n",
       "<style scoped>\n",
       "    .dataframe tbody tr th:only-of-type {\n",
       "        vertical-align: middle;\n",
       "    }\n",
       "\n",
       "    .dataframe tbody tr th {\n",
       "        vertical-align: top;\n",
       "    }\n",
       "\n",
       "    .dataframe thead th {\n",
       "        text-align: right;\n",
       "    }\n",
       "</style>\n",
       "<table border=\"1\" class=\"dataframe\">\n",
       "  <thead>\n",
       "    <tr style=\"text-align: right;\">\n",
       "      <th></th>\n",
       "      <th>eq_1</th>\n",
       "      <th>eq_2</th>\n",
       "      <th>eq_3</th>\n",
       "    </tr>\n",
       "  </thead>\n",
       "  <tbody>\n",
       "    <tr>\n",
       "      <th>L1.y1</th>\n",
       "      <td>0.223023</td>\n",
       "      <td>0.314736</td>\n",
       "      <td>0.001228</td>\n",
       "    </tr>\n",
       "    <tr>\n",
       "      <th>L1.y2</th>\n",
       "      <td>0.009696</td>\n",
       "      <td>1.096933</td>\n",
       "      <td>0.063554</td>\n",
       "    </tr>\n",
       "    <tr>\n",
       "      <th>L1.y3</th>\n",
       "      <td>0.396875</td>\n",
       "      <td>0.597869</td>\n",
       "      <td>0.409617</td>\n",
       "    </tr>\n",
       "    <tr>\n",
       "      <th>L2.y1</th>\n",
       "      <td>0.214252</td>\n",
       "      <td>0.186689</td>\n",
       "      <td>-0.017425</td>\n",
       "    </tr>\n",
       "    <tr>\n",
       "      <th>L2.y2</th>\n",
       "      <td>-0.386158</td>\n",
       "      <td>-0.486032</td>\n",
       "      <td>-0.050985</td>\n",
       "    </tr>\n",
       "    <tr>\n",
       "      <th>L2.y3</th>\n",
       "      <td>0.136048</td>\n",
       "      <td>0.503690</td>\n",
       "      <td>0.234997</td>\n",
       "    </tr>\n",
       "    <tr>\n",
       "      <th>L3.y1</th>\n",
       "      <td>-0.005326</td>\n",
       "      <td>0.027529</td>\n",
       "      <td>0.011484</td>\n",
       "    </tr>\n",
       "    <tr>\n",
       "      <th>L3.y2</th>\n",
       "      <td>0.340733</td>\n",
       "      <td>0.483196</td>\n",
       "      <td>-0.005236</td>\n",
       "    </tr>\n",
       "    <tr>\n",
       "      <th>L3.y3</th>\n",
       "      <td>-0.535430</td>\n",
       "      <td>-0.321177</td>\n",
       "      <td>0.081537</td>\n",
       "    </tr>\n",
       "    <tr>\n",
       "      <th>L4.y1</th>\n",
       "      <td>-0.041102</td>\n",
       "      <td>-0.022559</td>\n",
       "      <td>0.066688</td>\n",
       "    </tr>\n",
       "    <tr>\n",
       "      <th>L4.y2</th>\n",
       "      <td>0.001349</td>\n",
       "      <td>-0.164217</td>\n",
       "      <td>-0.013676</td>\n",
       "    </tr>\n",
       "    <tr>\n",
       "      <th>L4.y3</th>\n",
       "      <td>-0.026822</td>\n",
       "      <td>-0.331993</td>\n",
       "      <td>0.246318</td>\n",
       "    </tr>\n",
       "  </tbody>\n",
       "</table>\n",
       "</div>"
      ],
      "text/plain": [
       "           eq_1      eq_2      eq_3\n",
       "L1.y1  0.223023  0.314736  0.001228\n",
       "L1.y2  0.009696  1.096933  0.063554\n",
       "L1.y3  0.396875  0.597869  0.409617\n",
       "L2.y1  0.214252  0.186689 -0.017425\n",
       "L2.y2 -0.386158 -0.486032 -0.050985\n",
       "L2.y3  0.136048  0.503690  0.234997\n",
       "L3.y1 -0.005326  0.027529  0.011484\n",
       "L3.y2  0.340733  0.483196 -0.005236\n",
       "L3.y3 -0.535430 -0.321177  0.081537\n",
       "L4.y1 -0.041102 -0.022559  0.066688\n",
       "L4.y2  0.001349 -0.164217 -0.013676\n",
       "L4.y3 -0.026822 -0.331993  0.246318"
      ]
     },
     "execution_count": 21,
     "metadata": {},
     "output_type": "execute_result"
    }
   ],
   "source": [
    "ys = []\n",
    "for i in range(0,3):\n",
    "    data = pd.DataFrame(A).iloc[i,:].values\n",
    "    y = pd.DataFrame(data = data, index =  var.exog_names[1:])\n",
    "    col_name = 'eq_' + str(i+1)\n",
    "    y.columns = [col_name]\n",
    "    ys.append(y)\n",
    "pd.concat(ys, axis=1)"
   ]
  },
  {
   "cell_type": "code",
   "execution_count": null,
   "id": "mexican-invite",
   "metadata": {},
   "outputs": [],
   "source": []
  }
 ],
 "metadata": {
  "kernelspec": {
   "display_name": "Python 3",
   "language": "python",
   "name": "python3"
  },
  "language_info": {
   "codemirror_mode": {
    "name": "ipython",
    "version": 3
   },
   "file_extension": ".py",
   "mimetype": "text/x-python",
   "name": "python",
   "nbconvert_exporter": "python",
   "pygments_lexer": "ipython3",
   "version": "3.8.5"
  }
 },
 "nbformat": 4,
 "nbformat_minor": 5
}
